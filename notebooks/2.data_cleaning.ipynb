{
 "cells": [
  {
   "cell_type": "code",
   "execution_count": 1,
   "id": "c9d73409-5286-4c7b-81e4-ac962330dbf8",
   "metadata": {
    "tags": []
   },
   "outputs": [],
   "source": [
    "from pathlib import Path\n",
    "import pandas as pd\n",
    "import seaborn as sns\n",
    "from src.data.make_dataset import load_data"
   ]
  },
  {
   "cell_type": "code",
   "execution_count": 2,
   "id": "649433c6-9237-490c-bf6d-47b5e78df793",
   "metadata": {
    "tags": []
   },
   "outputs": [],
   "source": [
    "dataset_path = \"../data/raw/AirlineQuotesData.xlsx\" \n",
    "raw_data = load_data(dataset_path, \"Flight Duplicate Quotes\")"
   ]
  },
  {
   "cell_type": "markdown",
   "id": "0c996b21-efb8-46ed-9617-2afa5279a9e9",
   "metadata": {},
   "source": [
    "# Deduplicate\n",
    "\n",
    "The analyst has come up with the following criteria to determine if quotes should be considered duplicates of each other:\n",
    "1. The quotes are made by the same user (“UserID”)\n",
    "2. The flight dates are within 14 days of each other (“FlightDate”)\n"
   ]
  },
  {
   "cell_type": "code",
   "execution_count": 3,
   "id": "a9792ba3-0f04-42a0-b7db-a240222ad2eb",
   "metadata": {
    "tags": []
   },
   "outputs": [
    {
     "data": {
      "text/plain": [
       "(2152, 6)"
      ]
     },
     "execution_count": 3,
     "metadata": {},
     "output_type": "execute_result"
    }
   ],
   "source": [
    "raw_data.shape"
   ]
  },
  {
   "cell_type": "code",
   "execution_count": 4,
   "id": "b8d3a07b-784a-4d18-811e-9fcad25b148a",
   "metadata": {
    "tags": []
   },
   "outputs": [],
   "source": [
    "raw_data.sort_values(\"QuoteCreationDateTime\", inplace=True) # sort by quote creation date"
   ]
  },
  {
   "cell_type": "markdown",
   "id": "8e4cd8fb-d21e-49db-aa34-f8163f240648",
   "metadata": {
    "tags": []
   },
   "source": [
    "# FYI Quotes being made after Flight\n",
    "\n",
    "There are some quotes created after the flight has taken place."
   ]
  },
  {
   "cell_type": "code",
   "execution_count": 5,
   "id": "3c2cd814-e19c-4d23-98c5-b5836f64c268",
   "metadata": {
    "tags": []
   },
   "outputs": [
    {
     "data": {
      "text/html": [
       "<div>\n",
       "<style scoped>\n",
       "    .dataframe tbody tr th:only-of-type {\n",
       "        vertical-align: middle;\n",
       "    }\n",
       "\n",
       "    .dataframe tbody tr th {\n",
       "        vertical-align: top;\n",
       "    }\n",
       "\n",
       "    .dataframe thead th {\n",
       "        text-align: right;\n",
       "    }\n",
       "</style>\n",
       "<table border=\"1\" class=\"dataframe\">\n",
       "  <thead>\n",
       "    <tr style=\"text-align: right;\">\n",
       "      <th></th>\n",
       "      <th>QuoteID</th>\n",
       "      <th>UserID</th>\n",
       "      <th>QuoteCreationDateTime</th>\n",
       "      <th>FlightDate</th>\n",
       "      <th>Price</th>\n",
       "      <th>Sale_Flag</th>\n",
       "    </tr>\n",
       "  </thead>\n",
       "  <tbody>\n",
       "    <tr>\n",
       "      <th>1173</th>\n",
       "      <td>QUOTE_1174</td>\n",
       "      <td>USER_148</td>\n",
       "      <td>2018-05-04 15:14:00</td>\n",
       "      <td>2018-05-02</td>\n",
       "      <td>285.12</td>\n",
       "      <td>0</td>\n",
       "    </tr>\n",
       "    <tr>\n",
       "      <th>1488</th>\n",
       "      <td>QUOTE_1489</td>\n",
       "      <td>USER_17</td>\n",
       "      <td>2018-07-04 13:49:00</td>\n",
       "      <td>2018-06-24</td>\n",
       "      <td>263.70</td>\n",
       "      <td>0</td>\n",
       "    </tr>\n",
       "    <tr>\n",
       "      <th>1833</th>\n",
       "      <td>QUOTE_1834</td>\n",
       "      <td>USER_54</td>\n",
       "      <td>2018-09-17 14:22:00</td>\n",
       "      <td>2018-09-12</td>\n",
       "      <td>236.70</td>\n",
       "      <td>0</td>\n",
       "    </tr>\n",
       "  </tbody>\n",
       "</table>\n",
       "</div>"
      ],
      "text/plain": [
       "         QuoteID    UserID QuoteCreationDateTime FlightDate   Price  Sale_Flag\n",
       "1173  QUOTE_1174  USER_148   2018-05-04 15:14:00 2018-05-02  285.12          0\n",
       "1488  QUOTE_1489   USER_17   2018-07-04 13:49:00 2018-06-24  263.70          0\n",
       "1833  QUOTE_1834   USER_54   2018-09-17 14:22:00 2018-09-12  236.70          0"
      ]
     },
     "execution_count": 5,
     "metadata": {},
     "output_type": "execute_result"
    }
   ],
   "source": [
    "raw_data[raw_data.QuoteCreationDateTime.dt.date > raw_data.FlightDate]"
   ]
  },
  {
   "cell_type": "markdown",
   "id": "b02f7c9a-0b5d-407f-b295-4edf70f77a50",
   "metadata": {},
   "source": [
    "# Get Number of Days from prior search"
   ]
  },
  {
   "cell_type": "code",
   "execution_count": 6,
   "id": "4d192603-9b40-4e4d-b762-73b1b1dde540",
   "metadata": {
    "tags": []
   },
   "outputs": [],
   "source": [
    "raw_data[\"NoDaysFlightDatePriorSearch\"] = (raw_data.groupby(\"UserID\")[\"FlightDate\"].diff() / pd.Timedelta(days=1)).fillna(0.)\n",
    "\n",
    "raw_data[\"NoDaysFlightDatePriorSearch\"] = raw_data[\"NoDaysFlightDatePriorSearch\"].abs()"
   ]
  },
  {
   "cell_type": "code",
   "execution_count": 7,
   "id": "f71e0570-b623-47da-9ce1-0d5410f9b99d",
   "metadata": {
    "tags": []
   },
   "outputs": [
    {
     "data": {
      "text/html": [
       "<div>\n",
       "<style scoped>\n",
       "    .dataframe tbody tr th:only-of-type {\n",
       "        vertical-align: middle;\n",
       "    }\n",
       "\n",
       "    .dataframe tbody tr th {\n",
       "        vertical-align: top;\n",
       "    }\n",
       "\n",
       "    .dataframe thead th {\n",
       "        text-align: right;\n",
       "    }\n",
       "</style>\n",
       "<table border=\"1\" class=\"dataframe\">\n",
       "  <thead>\n",
       "    <tr style=\"text-align: right;\">\n",
       "      <th></th>\n",
       "      <th>QuoteID</th>\n",
       "      <th>UserID</th>\n",
       "      <th>QuoteCreationDateTime</th>\n",
       "      <th>FlightDate</th>\n",
       "      <th>Price</th>\n",
       "      <th>Sale_Flag</th>\n",
       "      <th>NoDaysFlightDatePriorSearch</th>\n",
       "    </tr>\n",
       "  </thead>\n",
       "  <tbody>\n",
       "    <tr>\n",
       "      <th>2146</th>\n",
       "      <td>QUOTE_2147</td>\n",
       "      <td>USER_158</td>\n",
       "      <td>2018-12-29 11:51:00</td>\n",
       "      <td>2019-01-07</td>\n",
       "      <td>638.85</td>\n",
       "      <td>0</td>\n",
       "      <td>0.0</td>\n",
       "    </tr>\n",
       "    <tr>\n",
       "      <th>2147</th>\n",
       "      <td>QUOTE_2148</td>\n",
       "      <td>USER_158</td>\n",
       "      <td>2018-12-29 11:55:00</td>\n",
       "      <td>2019-01-07</td>\n",
       "      <td>644.56</td>\n",
       "      <td>0</td>\n",
       "      <td>0.0</td>\n",
       "    </tr>\n",
       "    <tr>\n",
       "      <th>2148</th>\n",
       "      <td>QUOTE_2149</td>\n",
       "      <td>USER_158</td>\n",
       "      <td>2018-12-29 11:58:00</td>\n",
       "      <td>2019-01-14</td>\n",
       "      <td>527.70</td>\n",
       "      <td>0</td>\n",
       "      <td>7.0</td>\n",
       "    </tr>\n",
       "    <tr>\n",
       "      <th>2149</th>\n",
       "      <td>QUOTE_2150</td>\n",
       "      <td>USER_158</td>\n",
       "      <td>2018-12-31 11:51:00</td>\n",
       "      <td>2019-01-28</td>\n",
       "      <td>514.12</td>\n",
       "      <td>1</td>\n",
       "      <td>14.0</td>\n",
       "    </tr>\n",
       "    <tr>\n",
       "      <th>2150</th>\n",
       "      <td>QUOTE_2151</td>\n",
       "      <td>USER_158</td>\n",
       "      <td>2019-02-01 11:51:00</td>\n",
       "      <td>2019-03-05</td>\n",
       "      <td>737.41</td>\n",
       "      <td>0</td>\n",
       "      <td>36.0</td>\n",
       "    </tr>\n",
       "    <tr>\n",
       "      <th>2151</th>\n",
       "      <td>QUOTE_2152</td>\n",
       "      <td>USER_158</td>\n",
       "      <td>2019-02-01 11:55:00</td>\n",
       "      <td>2019-03-05</td>\n",
       "      <td>730.23</td>\n",
       "      <td>0</td>\n",
       "      <td>0.0</td>\n",
       "    </tr>\n",
       "  </tbody>\n",
       "</table>\n",
       "</div>"
      ],
      "text/plain": [
       "         QuoteID    UserID QuoteCreationDateTime FlightDate   Price   \n",
       "2146  QUOTE_2147  USER_158   2018-12-29 11:51:00 2019-01-07  638.85  \\\n",
       "2147  QUOTE_2148  USER_158   2018-12-29 11:55:00 2019-01-07  644.56   \n",
       "2148  QUOTE_2149  USER_158   2018-12-29 11:58:00 2019-01-14  527.70   \n",
       "2149  QUOTE_2150  USER_158   2018-12-31 11:51:00 2019-01-28  514.12   \n",
       "2150  QUOTE_2151  USER_158   2019-02-01 11:51:00 2019-03-05  737.41   \n",
       "2151  QUOTE_2152  USER_158   2019-02-01 11:55:00 2019-03-05  730.23   \n",
       "\n",
       "      Sale_Flag  NoDaysFlightDatePriorSearch  \n",
       "2146          0                          0.0  \n",
       "2147          0                          0.0  \n",
       "2148          0                          7.0  \n",
       "2149          1                         14.0  \n",
       "2150          0                         36.0  \n",
       "2151          0                          0.0  "
      ]
     },
     "execution_count": 7,
     "metadata": {},
     "output_type": "execute_result"
    }
   ],
   "source": [
    "raw_data[raw_data.UserID =='USER_158']"
   ]
  },
  {
   "cell_type": "code",
   "execution_count": 8,
   "id": "38c1b1cb-caa8-412b-9f38-680e75cb2fc9",
   "metadata": {
    "tags": []
   },
   "outputs": [],
   "source": [
    "def deduplicate(group):\n",
    "    \"Deduplicate criteria given by analyst.\"\n",
    "    filtered = group[\n",
    "        # keep quotes that are greater than 14 days of prior search\n",
    "        (group.NoDaysFlightDatePriorSearch > 14) |\n",
    "        \n",
    "        # keep all sale rows\n",
    "        (group.Sale_Flag == 1)\n",
    "\n",
    "        ]\n",
    "    \n",
    "    return filtered"
   ]
  },
  {
   "cell_type": "code",
   "execution_count": 9,
   "id": "3333f96d-ab86-4bba-96b0-9bd6fa20d09c",
   "metadata": {
    "tags": []
   },
   "outputs": [
    {
     "data": {
      "text/html": [
       "<div>\n",
       "<style scoped>\n",
       "    .dataframe tbody tr th:only-of-type {\n",
       "        vertical-align: middle;\n",
       "    }\n",
       "\n",
       "    .dataframe tbody tr th {\n",
       "        vertical-align: top;\n",
       "    }\n",
       "\n",
       "    .dataframe thead th {\n",
       "        text-align: right;\n",
       "    }\n",
       "</style>\n",
       "<table border=\"1\" class=\"dataframe\">\n",
       "  <thead>\n",
       "    <tr style=\"text-align: right;\">\n",
       "      <th></th>\n",
       "      <th></th>\n",
       "      <th>QuoteID</th>\n",
       "      <th>UserID</th>\n",
       "      <th>QuoteCreationDateTime</th>\n",
       "      <th>FlightDate</th>\n",
       "      <th>Price</th>\n",
       "      <th>Sale_Flag</th>\n",
       "      <th>NoDaysFlightDatePriorSearch</th>\n",
       "    </tr>\n",
       "    <tr>\n",
       "      <th>UserID</th>\n",
       "      <th></th>\n",
       "      <th></th>\n",
       "      <th></th>\n",
       "      <th></th>\n",
       "      <th></th>\n",
       "      <th></th>\n",
       "      <th></th>\n",
       "      <th></th>\n",
       "    </tr>\n",
       "  </thead>\n",
       "  <tbody>\n",
       "    <tr>\n",
       "      <th rowspan=\"2\" valign=\"top\">USER_158</th>\n",
       "      <th>2149</th>\n",
       "      <td>QUOTE_2150</td>\n",
       "      <td>USER_158</td>\n",
       "      <td>2018-12-31 11:51:00</td>\n",
       "      <td>2019-01-28</td>\n",
       "      <td>514.12</td>\n",
       "      <td>1</td>\n",
       "      <td>14.0</td>\n",
       "    </tr>\n",
       "    <tr>\n",
       "      <th>2150</th>\n",
       "      <td>QUOTE_2151</td>\n",
       "      <td>USER_158</td>\n",
       "      <td>2019-02-01 11:51:00</td>\n",
       "      <td>2019-03-05</td>\n",
       "      <td>737.41</td>\n",
       "      <td>0</td>\n",
       "      <td>36.0</td>\n",
       "    </tr>\n",
       "  </tbody>\n",
       "</table>\n",
       "</div>"
      ],
      "text/plain": [
       "                  QuoteID    UserID QuoteCreationDateTime FlightDate   Price   \n",
       "UserID                                                                         \n",
       "USER_158 2149  QUOTE_2150  USER_158   2018-12-31 11:51:00 2019-01-28  514.12  \\\n",
       "         2150  QUOTE_2151  USER_158   2019-02-01 11:51:00 2019-03-05  737.41   \n",
       "\n",
       "               Sale_Flag  NoDaysFlightDatePriorSearch  \n",
       "UserID                                                 \n",
       "USER_158 2149          1                         14.0  \n",
       "         2150          0                         36.0  "
      ]
     },
     "execution_count": 9,
     "metadata": {},
     "output_type": "execute_result"
    }
   ],
   "source": [
    "raw_data[raw_data.UserID==\"USER_158\"].groupby(\"UserID\").apply(lambda x: deduplicate(x))"
   ]
  },
  {
   "cell_type": "markdown",
   "id": "160f8349-1c4c-4193-accd-868edcba207e",
   "metadata": {},
   "source": [
    "After doing this, I still didn't feel this solution was robust enough. If multiple trips where being planned at the same time, the above would not be able to handle this. \n",
    "\n",
    "Because of this, I then sorted the flight date and grouped them by there flight date search delta - see python scripts."
   ]
  }
 ],
 "metadata": {
  "kernelspec": {
   "display_name": "Python 3 (ipykernel)",
   "language": "python",
   "name": "python3"
  },
  "language_info": {
   "codemirror_mode": {
    "name": "ipython",
    "version": 3
   },
   "file_extension": ".py",
   "mimetype": "text/x-python",
   "name": "python",
   "nbconvert_exporter": "python",
   "pygments_lexer": "ipython3",
   "version": "3.10.11"
  }
 },
 "nbformat": 4,
 "nbformat_minor": 5
}
