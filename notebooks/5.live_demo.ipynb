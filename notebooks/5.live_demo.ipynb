{
 "cells": [
  {
   "cell_type": "code",
   "execution_count": 1,
   "id": "b63b0a4e-cd41-4486-ac09-3061abbccc92",
   "metadata": {
    "tags": []
   },
   "outputs": [],
   "source": [
    "from pathlib import Path\n",
    "import pandas as pd\n",
    "import seaborn as sns\n",
    "import matplotlib.pyplot as plt\n",
    "from src.data.make_dataset import load_data\n",
    "from src.features.transformations import clean_data\n",
    "from src.features.analysis import close_rate, plot_close_ratio_over_months\n",
    "sns.set_theme()"
   ]
  },
  {
   "cell_type": "code",
   "execution_count": 2,
   "id": "a8792caa-2d9f-4f3f-a7b8-275191f46bbd",
   "metadata": {
    "tags": []
   },
   "outputs": [],
   "source": [
    "dataset_path = Path().absolute() / \"../data/raw/AirlineQuotesData.xlsx\"\n",
    "raw_data = load_data(dataset_path, \"Flight Duplicate Quotes\")\n",
    "data = clean_data(raw_data)"
   ]
  },
  {
   "cell_type": "code",
   "execution_count": 3,
   "id": "602d3d22-d652-4926-90a5-21c524f300f8",
   "metadata": {
    "tags": []
   },
   "outputs": [
    {
     "data": {
      "text/html": [
       "<div>\n",
       "<style scoped>\n",
       "    .dataframe tbody tr th:only-of-type {\n",
       "        vertical-align: middle;\n",
       "    }\n",
       "\n",
       "    .dataframe tbody tr th {\n",
       "        vertical-align: top;\n",
       "    }\n",
       "\n",
       "    .dataframe thead th {\n",
       "        text-align: right;\n",
       "    }\n",
       "</style>\n",
       "<table border=\"1\" class=\"dataframe\">\n",
       "  <thead>\n",
       "    <tr style=\"text-align: right;\">\n",
       "      <th></th>\n",
       "      <th>QuoteID</th>\n",
       "      <th>UserID</th>\n",
       "      <th>QuoteCreationDateTime</th>\n",
       "      <th>FlightDate</th>\n",
       "      <th>Price</th>\n",
       "      <th>Sale_Flag</th>\n",
       "    </tr>\n",
       "  </thead>\n",
       "  <tbody>\n",
       "    <tr>\n",
       "      <th>690</th>\n",
       "      <td>QUOTE_691</td>\n",
       "      <td>USER_6</td>\n",
       "      <td>2018-02-28 13:18:00</td>\n",
       "      <td>2018-02-28</td>\n",
       "      <td>314.10</td>\n",
       "      <td>0</td>\n",
       "    </tr>\n",
       "    <tr>\n",
       "      <th>692</th>\n",
       "      <td>QUOTE_693</td>\n",
       "      <td>USER_6</td>\n",
       "      <td>2018-02-28 14:04:00</td>\n",
       "      <td>2018-03-15</td>\n",
       "      <td>209.70</td>\n",
       "      <td>1</td>\n",
       "    </tr>\n",
       "    <tr>\n",
       "      <th>830</th>\n",
       "      <td>QUOTE_831</td>\n",
       "      <td>USER_6</td>\n",
       "      <td>2018-03-13 14:36:00</td>\n",
       "      <td>2018-03-30</td>\n",
       "      <td>271.46</td>\n",
       "      <td>1</td>\n",
       "    </tr>\n",
       "  </tbody>\n",
       "</table>\n",
       "</div>"
      ],
      "text/plain": [
       "       QuoteID  UserID QuoteCreationDateTime FlightDate   Price  Sale_Flag\n",
       "690  QUOTE_691  USER_6   2018-02-28 13:18:00 2018-02-28  314.10          0\n",
       "692  QUOTE_693  USER_6   2018-02-28 14:04:00 2018-03-15  209.70          1\n",
       "830  QUOTE_831  USER_6   2018-03-13 14:36:00 2018-03-30  271.46          1"
      ]
     },
     "execution_count": 3,
     "metadata": {},
     "output_type": "execute_result"
    }
   ],
   "source": [
    "data[data.UserID == \"USER_6\"]"
   ]
  },
  {
   "cell_type": "code",
   "execution_count": 5,
   "id": "a1896074-4628-46ff-8400-20ed1337c65d",
   "metadata": {},
   "outputs": [
    {
     "data": {
      "text/plain": [
       "0          QUOTE_1\n",
       "1          QUOTE_2\n",
       "2          QUOTE_3\n",
       "3          QUOTE_4\n",
       "4          QUOTE_5\n",
       "           ...    \n",
       "2147    QUOTE_2148\n",
       "2148    QUOTE_2149\n",
       "2149    QUOTE_2150\n",
       "2150    QUOTE_2151\n",
       "2151    QUOTE_2152\n",
       "Name: QuoteID, Length: 2152, dtype: category\n",
       "Categories (2152, object): ['QUOTE_1', 'QUOTE_10', 'QUOTE_100', 'QUOTE_1000', ..., 'QUOTE_996', 'QUOTE_997', 'QUOTE_998', 'QUOTE_999']"
      ]
     },
     "execution_count": 5,
     "metadata": {},
     "output_type": "execute_result"
    }
   ],
   "source": [
    "raw_data.QuoteID"
   ]
  },
  {
   "cell_type": "code",
   "execution_count": null,
   "id": "a9fadf6e-f2a6-4576-b1e7-c87c18b1026f",
   "metadata": {},
   "outputs": [],
   "source": []
  }
 ],
 "metadata": {
  "kernelspec": {
   "display_name": "Python 3 (ipykernel)",
   "language": "python",
   "name": "python3"
  },
  "language_info": {
   "codemirror_mode": {
    "name": "ipython",
    "version": 3
   },
   "file_extension": ".py",
   "mimetype": "text/x-python",
   "name": "python",
   "nbconvert_exporter": "python",
   "pygments_lexer": "ipython3",
   "version": "3.10.11"
  }
 },
 "nbformat": 4,
 "nbformat_minor": 5
}
